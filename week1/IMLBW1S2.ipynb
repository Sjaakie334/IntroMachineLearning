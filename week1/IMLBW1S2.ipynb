{
 "cells": [
  {
   "cell_type": "markdown",
   "metadata": {},
   "source": [
    "## Context\n",
    "source: [1]\n",
    "Cardiovascular diseases (CVDs) are the number 1 cause of death globally, taking an estimated 17.9 million lives each year, which accounts for 31% of all deaths worldwide. Four out of 5CVD deaths are due to heart attacks and strokes, and one-third of these deaths occur prematurely in people under 70 years of age. Heart failure is a common event caused by CVDs.\n",
    "\n",
    "People with cardiovascular disease or who are at high cardiovascular risk (due to the presence of one or more risk factors such as hypertension, diabetes, hyperlipidaemia or already established disease) need early detection and management wherein a machine learning model can be of great help.\n",
    "A dataset containing 918 observations is available (heart.csv). This dataset contains 11 features that can be used to predict a possible heart disease:\n",
    "\n",
    "    1. Age: age of the patient [years]\n",
    "    2. Sex: sex of the patient [M: Male, F: Female]\n",
    "    3. ChestPainType: chest pain type [TA: Typical Angina, ATA: Atypical Angina, NAP: Non-Anginal Pain, ASY: Asymptomatic]\n",
    "    4. RestingBP: resting blood pressure [mm Hg]\n",
    "    5. Cholesterol: serum cholesterol [mm/dl]\n",
    "    6. FastingBS: fasting blood sugar [1: if FastingBS > 120 mg/dl, 0: otherwise]\n",
    "    7. RestingECG: resting electrocardiogram results [Normal: Normal, ST: having ST-T wave abnormality (T wave inversions and/or ST elevation or depression of > 0.05 mV), LVH: showing probable or definite left ventricular hypertrophy by Estes’ criteria]\n",
    "    8. MaxHR: maximum heart rate achieved [Numeric value between 60 and 202]\n",
    "    9. ExerciseAngina: exercise-induced angina [Y: Yes, N: No]\n",
    "    10. Oldpeak: oldpeak = ST [Numeric value measured in depression]\n",
    "    11. ST_Slope: the slope of the peak exercise ST segment [Up: upsloping, Flat: flat, Down: downsloping]\n",
    "    12. HeartDisease: output class [1: heart disease, 0: Normal]\n"
   ]
  },
  {
   "cell_type": "markdown",
   "metadata": {},
   "source": [
    "## Assignment\n",
    "Create a machine learning model that is able to predict a possible heart disease for a patient with a high accuracy. The model must be created using a Support Vector Machine. Experiment with different kernel types and kernel parameters to achieve the highest accuracy. Take the following into account:\n",
    "    - Some parameters must be transformed from categorical (e.g. male - female) to numerical in order for the SVM to process. This could be handled one hot encoding. See https://www.geeksforgeeks.org/ml-one-hot-encoding/ or other websites on this topic\n",
    "    - Scaling of the numerical parameters will most likely be necessary.\n",
    "    - Use *classification_report, confusion_matrix and ConfusionMatrixDisplay* from **sklearn.metrics** to investigate the performance of your model. The terms precision, recall and F1 score that are used in the classification report are explained in https://en.wikipedia.org/wiki/Precision_and_recall.\n",
    "    - Don’t forget to split the dataset into a training set and a test set for validation purposes."
   ]
  },
  {
   "cell_type": "code",
   "execution_count": 54,
   "metadata": {},
   "outputs": [],
   "source": [
    "# imports \n",
    "import numpy as np\n",
    "import pandas as pd\n",
    "import sklearn as sk"
   ]
  },
  {
   "cell_type": "code",
   "execution_count": 55,
   "metadata": {},
   "outputs": [],
   "source": [
    "data = pd.read_csv('heart.csv')\n",
    "# print(data)"
   ]
  },
  {
   "cell_type": "code",
   "execution_count": 56,
   "metadata": {},
   "outputs": [
    {
     "name": "stdout",
     "output_type": "stream",
     "text": [
      "['M' 'F']\n",
      "['ATA' 'NAP' 'ASY' 'TA']\n",
      "['Normal' 'ST' 'LVH']\n",
      "['N' 'Y']\n",
      "['Up' 'Flat' 'Down']\n"
     ]
    }
   ],
   "source": [
    "# get the unique data from column sex, chestPainType, restingECG, exerciseAngina and st_Slope\n",
    "print(data['Sex'].unique()) \n",
    "print(data['ChestPainType'].unique()) \n",
    "print(data['RestingECG'].unique()) \n",
    "print(data['ExerciseAngina'].unique()) \n",
    "print(data['ST_Slope'].unique())"
   ]
  },
  {
   "cell_type": "code",
   "execution_count": 57,
   "metadata": {},
   "outputs": [],
   "source": [
    "# One hot Encoding using pandas\n",
    "oneHotData = pd.get_dummies(data, columns=['Sex', 'ChestPainType', 'RestingECG', 'ExerciseAngina', 'ST_Slope']) # , dtype=int\n",
    "oneHotData['Sex_F'] = oneHotData['Sex_F'].astype(int)\n",
    "oneHotData['Sex_M'] = oneHotData['Sex_M'].astype(int)\n",
    "oneHotData['ChestPainType_ASY'] = oneHotData['ChestPainType_ASY'].astype(int)\n",
    "oneHotData['ChestPainType_ATA'] = oneHotData['ChestPainType_ATA'].astype(int)\n",
    "oneHotData['ChestPainType_NAP'] = oneHotData['ChestPainType_NAP'].astype(int)\n",
    "oneHotData['ChestPainType_TA'] = oneHotData['ChestPainType_TA'].astype(int)\n",
    "oneHotData['RestingECG_LVH'] = oneHotData['RestingECG_LVH'].astype(int)\n",
    "oneHotData['RestingECG_Normal'] = oneHotData['RestingECG_Normal'].astype(int)\n",
    "oneHotData['RestingECG_ST'] = oneHotData['RestingECG_ST'].astype(int)\n",
    "oneHotData['ExerciseAngina_N'] = oneHotData['ExerciseAngina_N'].astype(int)\n",
    "oneHotData['ExerciseAngina_Y'] = oneHotData['ExerciseAngina_Y'].astype(int)\n",
    "oneHotData['ST_Slope_Down'] = oneHotData['ST_Slope_Down'].astype(int)\n",
    "oneHotData['ST_Slope_Flat'] = oneHotData['ST_Slope_Flat'].astype(int)   \n",
    "oneHotData['ST_Slope_Up'] = oneHotData['ST_Slope_Up'].astype(int)\n",
    "# print(oneHotData)\n"
   ]
  },
  {
   "cell_type": "code",
   "execution_count": 58,
   "metadata": {},
   "outputs": [
    {
     "name": "stdout",
     "output_type": "stream",
     "text": [
      "[295 347]\n"
     ]
    }
   ],
   "source": [
    "# training and testing\n",
    "from sklearn.model_selection import train_test_split\n",
    "\n",
    "X = oneHotData.drop('HeartDisease', axis=1)\n",
    "y = oneHotData['HeartDisease']\n",
    "# print('ClassLabels: \\n', np.unique(y))\n",
    "# print(np.bincount(y))\n",
    "\n",
    "\n",
    "X_train, X_test, y_train, y_test = train_test_split(X, y, test_size = 0.3) # , stratify = y\n",
    "\n",
    "print(np.bincount(y_train))"
   ]
  },
  {
   "cell_type": "code",
   "execution_count": 59,
   "metadata": {},
   "outputs": [
    {
     "name": "stdout",
     "output_type": "stream",
     "text": [
      "Number of wrong classifications:  30\n",
      "The accuracy of SVM : 0.89\n"
     ]
    }
   ],
   "source": [
    "from sklearn.svm import SVC\n",
    "\n",
    "svm = SVC(kernel = 'linear')\n",
    "svm.fit(X_train, y_train)\n",
    "y_pred = svm.predict(X_test)\n",
    "\n",
    "print('Number of wrong classifications: ', (y_test != y_pred).sum())\n",
    "print('The accuracy of SVM : %.2f' %((y_test == y_pred).sum() / len(y_test)))"
   ]
  },
  {
   "cell_type": "code",
   "execution_count": 62,
   "metadata": {},
   "outputs": [
    {
     "name": "stdout",
     "output_type": "stream",
     "text": [
      "              precision    recall  f1-score   support\n",
      "\n",
      "           0       0.86      0.88      0.87       115\n",
      "           1       0.91      0.90      0.91       161\n",
      "\n",
      "    accuracy                           0.89       276\n",
      "   macro avg       0.89      0.89      0.89       276\n",
      "weighted avg       0.89      0.89      0.89       276\n",
      "\n",
      "[[101  14]\n",
      " [ 16 145]]\n"
     ]
    },
    {
     "data": {
      "text/plain": [
       "<sklearn.metrics._plot.confusion_matrix.ConfusionMatrixDisplay at 0x187516d42d0>"
      ]
     },
     "execution_count": 62,
     "metadata": {},
     "output_type": "execute_result"
    },
    {
     "data": {
      "image/png": "[encoded data removed]",
      "text/plain": [
       "<Figure size 640x480 with 2 Axes>"
      ]
     },
     "metadata": {},
     "output_type": "display_data"
    }
   ],
   "source": [
    "# confusion matrix\n",
    "from sklearn.metrics import confusion_matrix, ConfusionMatrixDisplay, classification_report\n",
    "print(classification_report(y_test, y_pred))\n",
    "conmat = confusion_matrix(y_test, y_pred)\n",
    "print(conmat)\n",
    "disp = ConfusionMatrixDisplay(conmat)\n",
    "disp.plot()"
   ]
  }
 ],
 "metadata": {
  "kernelspec": {
   "display_name": ".venv",
   "language": "python",
   "name": "python3"
  },
  "language_info": {
   "codemirror_mode": {
    "name": "ipython",
    "version": 3
   },
   "file_extension": ".py",
   "mimetype": "text/x-python",
   "name": "python",
   "nbconvert_exporter": "python",
   "pygments_lexer": "ipython3",
   "version": "3.11.9"
  }
 },
 "nbformat": 4,
 "nbformat_minor": 2
}
