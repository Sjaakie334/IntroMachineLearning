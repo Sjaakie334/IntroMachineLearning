{
 "cells": [
  {
   "cell_type": "markdown",
   "metadata": {},
   "source": [
    "# Lab session week 1 - session 1: NumPy, Pandas\n",
    "\n",
    "During the courses _Introduction to Machine Learning_ and _Machine with Big Data_ you will learn how to work with Machine Learning techniques to build your own smart systems. With Python a couple of packages are available which are widely used for applying the Machine Learning process and modelling. In this and upcoming labsessions you will practice with some basics out of the widely used packages for Machine Learning.\n",
    "\n",
    "In this session you will start to learn basic scientific python knowledge by looking at NumPy and Pandas.\n",
    "\n",
    "NumPy is the fundamental package for scientific computing with Python. It contains n-dimensional arrays, sophisticated functions and linear algebra operations.\n",
    "\n",
    "Pandas is an easy-to-use high-performant tool for data structures and data analysis.\n",
    "\n",
    "In this lab session you will work with these libraries and explore the basics."
   ]
  },
  {
   "cell_type": "code",
   "execution_count": 1,
   "metadata": {},
   "outputs": [],
   "source": [
    "# First we import the libraries that we need\n",
    "import numpy as np\n",
    "import pandas as pd"
   ]
  },
  {
   "cell_type": "markdown",
   "metadata": {},
   "source": [
    "## Data-structures in Python\n",
    "\n",
    "### Exercise 1: exploring the default data structures\n",
    "Python has 5 default structures: lists, tuples, dicts, sets and frozensets. Find out what the difference is between them and try them out. Also try to convert from one type to the other."
   ]
  },
  {
   "cell_type": "code",
   "execution_count": 2,
   "metadata": {},
   "outputs": [
    {
     "name": "stdout",
     "output_type": "stream",
     "text": [
      "[1, 2, 3, 1, 5, 6, 4, 7, 2, 8, 1]\n",
      "('cat', 'fish', 'dog')\n",
      "{'vu18', 'mse1', 'mu18', 'mse2'}\n",
      "{'brand': 'mini', 'model': 'cooper', 'year': 2002}\n",
      "frozenset({'cherry', 'banana', 'apple'})\n"
     ]
    }
   ],
   "source": [
    "# Your code here\n",
    "mylist = [1, 2, 3, 1, 5, 6, 4, 7, 2, 8, 1]\n",
    "mytuple = ('cat', 'fish', 'dog')\n",
    "myset = {\"mse1\", \"mse2\", \"mu18\", \"vu18\"}\n",
    "mydict = {\"brand\": \"mini\", \"model\": \"cooper\", \"year\":2002}\n",
    "myfrozenset = frozenset(['apple', 'banana', 'cherry'])\n",
    "\n",
    "print(mylist)\n",
    "print(mytuple)\n",
    "print(myset)\n",
    "print(mydict)\n",
    "print(myfrozenset)"
   ]
  },
  {
   "cell_type": "markdown",
   "metadata": {},
   "source": [
    "List is a collection which is ordered, changeable and allows duplicates\n",
    "tuple is a collection which is ordered, unchangeable and allows duplicates\n",
    "set is a collection which is unordered, unchangeable (you can only remove/add items), unindexed and doesn't allows duplicates\n",
    "frozenset is a collection like set, only is it completely unchangeable \n",
    "dictionary (dict) is a collection which is ordered, changeable and doesn't allows duplicates. uses a key value method of storing like json"
   ]
  },
  {
   "cell_type": "markdown",
   "metadata": {},
   "source": [
    "## Exploring NumPy\n",
    "Complete the following exercises. It might be useful to use the following cheatsheet: https://s3.amazonaws.com/assets.datacamp.com/blog_assets/Numpy_Python_Cheat_Sheet.pdf."
   ]
  },
  {
   "cell_type": "markdown",
   "metadata": {
    "tags": []
   },
   "source": [
    "### Exercise 2: Creating arrays and selecting/replacing values"
   ]
  },
  {
   "cell_type": "markdown",
   "metadata": {},
   "source": [
    "#### Exercise 2.1: Create a NumPy array with the numbers 1 to 9.\n",
    "Please do this exercise in two ways:\n",
    "1. By converting a python array into a NumPy array\n",
    "2. By creating a NumPy array with NumPy methods"
   ]
  },
  {
   "cell_type": "code",
   "execution_count": 3,
   "metadata": {
    "scrolled": true
   },
   "outputs": [
    {
     "name": "stdout",
     "output_type": "stream",
     "text": [
      "1:  [1 2 3 4 5 6 7 8 9] \n",
      "2:  [1 2 3 4 5 6 7 8 9]\n"
     ]
    }
   ],
   "source": [
    "# Your code here\n",
    "pyList = [1, 2, 3, 4, 5, 6, 7, 8, 9]\n",
    "myArray = np.array(pyList)\n",
    "myArray2 = np.array([1, 2, 3, 4, 5, 6, 7, 8, 9])\n",
    "\n",
    "print(\"1: \", myArray, \"\\n2: \", myArray2)"
   ]
  },
  {
   "cell_type": "markdown",
   "metadata": {},
   "source": [
    "#### Exercise 2.2: Create a NumPy matrix of size 3x2 with random values"
   ]
  },
  {
   "cell_type": "code",
   "execution_count": 4,
   "metadata": {},
   "outputs": [
    {
     "name": "stdout",
     "output_type": "stream",
     "text": [
      "[[0.88976364 0.07993029]\n",
      " [0.19905559 0.97293967]\n",
      " [0.81424173 0.18705903]]\n"
     ]
    }
   ],
   "source": [
    "# Your code here\n",
    "randmatrix = np.random.rand(3,2)\n",
    "print(randmatrix)"
   ]
  },
  {
   "cell_type": "markdown",
   "metadata": {},
   "source": [
    "#### Exercise 2.3: Create a boolean matrix of size 4x3 with values False"
   ]
  },
  {
   "cell_type": "code",
   "execution_count": 5,
   "metadata": {
    "scrolled": true
   },
   "outputs": [
    {
     "name": "stdout",
     "output_type": "stream",
     "text": [
      "[[False False False]\n",
      " [False False False]\n",
      " [False False False]\n",
      " [False False False]]\n"
     ]
    }
   ],
   "source": [
    "# Your code here\n",
    "randboolmatrix = np.random.choice(a=[False], size=(4,3))\n",
    "print(randboolmatrix)"
   ]
  },
  {
   "cell_type": "markdown",
   "metadata": {},
   "source": [
    "In the next exercises we will reuse the array of exercise 2.1.\n",
    "\n",
    "#### Exercise 2.4: Select all values larger than 5 and show these values"
   ]
  },
  {
   "cell_type": "code",
   "execution_count": 6,
   "metadata": {
    "scrolled": true
   },
   "outputs": [
    {
     "name": "stdout",
     "output_type": "stream",
     "text": [
      "[6 7 8 9]\n"
     ]
    }
   ],
   "source": [
    "# Your code here\n",
    "# print(np.where(myArray > 5, myArray, 0)) # returns [0 0 0 0 0 6 7 8 9]\n",
    "print(myArray[myArray>5])"
   ]
  },
  {
   "cell_type": "markdown",
   "metadata": {},
   "source": [
    "#### Exercise 2.5: Replace all values larger than 5 by 1"
   ]
  },
  {
   "cell_type": "code",
   "execution_count": 7,
   "metadata": {
    "scrolled": true
   },
   "outputs": [
    {
     "name": "stdout",
     "output_type": "stream",
     "text": [
      "[1 2 3 4 5 1 1 1 1]\n"
     ]
    }
   ],
   "source": [
    "# Your code here\n",
    "myArray2 = np.where(myArray2 <= 5, myArray2, 1)\n",
    "print(myArray2)"
   ]
  },
  {
   "cell_type": "markdown",
   "metadata": {},
   "source": [
    "In the following exercises we will reuse the matrix of exercise 2.2.\n",
    "\n",
    "#### Exercise 2.6: Write three selectors for: 1. the first row, 2. the second column of the matrix and 3. every odd row."
   ]
  },
  {
   "cell_type": "code",
   "execution_count": 8,
   "metadata": {},
   "outputs": [
    {
     "name": "stdout",
     "output_type": "stream",
     "text": [
      "the first row:\n",
      "[0.88976364 0.07993029]\n",
      "\n",
      "the second column:\n",
      "[0.07993029 0.97293967 0.18705903]\n",
      "\n",
      "every odd row:\n",
      "[[0.88976364 0.07993029]\n",
      " [0.81424173 0.18705903]]\n"
     ]
    }
   ],
   "source": [
    "# Your code here\n",
    "print(\"the first row:\")\n",
    "print(randmatrix[0])\n",
    "print(\"\\nthe second column:\")\n",
    "print(randmatrix[:,1])\n",
    "print(\"\\nevery odd row:\")\n",
    "print(randmatrix[0::2])"
   ]
  },
  {
   "cell_type": "markdown",
   "metadata": {},
   "source": [
    "### Exercise 3: Conversion, stacking and swapping\n",
    "#### Exercise 3.1: What is the difference between shape, size and dtype?"
   ]
  },
  {
   "cell_type": "code",
   "execution_count": 9,
   "metadata": {},
   "outputs": [
    {
     "name": "stdout",
     "output_type": "stream",
     "text": [
      "Shape:    (2, 4)\n",
      "Size:     8\n",
      "Dtype:    int64\n"
     ]
    }
   ],
   "source": [
    "# Your code here\n",
    "arr = np.array([[1, 2, 3, 4], [5, 6, 7, 8]])\n",
    "\n",
    "print(\"Shape:   \", arr.shape)   # Shows the size of the array in every dimension\n",
    "print(\"Size:    \", arr.size)    # Shows the total size of the array\n",
    "print(\"Dtype:   \", arr.dtype)   # Shows the data type of the objects in the array"
   ]
  },
  {
   "cell_type": "markdown",
   "metadata": {},
   "source": [
    "#### Exercise 3.2: Convert a 1D array with 21 elements in a 2D array with:\n",
    "1. A matrix with 3 rows\n",
    "2. A matrix with 3 columns\n",
    "3. What happens when you change one of the dimensions into -1?"
   ]
  },
  {
   "cell_type": "code",
   "execution_count": 10,
   "metadata": {
    "scrolled": true
   },
   "outputs": [
    {
     "name": "stdout",
     "output_type": "stream",
     "text": [
      "[[ 1  2  3  4  5  6  7]\n",
      " [ 8  9 10 11 12 13 14]\n",
      " [15 16 17 18 19 20 21]]\n",
      "[[ 1  2  3]\n",
      " [ 4  5  6]\n",
      " [ 7  8  9]\n",
      " [10 11 12]\n",
      " [13 14 15]\n",
      " [16 17 18]\n",
      " [19 20 21]]\n",
      "[[ 1  2  3  4  5  6  7]\n",
      " [ 8  9 10 11 12 13 14]\n",
      " [15 16 17 18 19 20 21]]\n"
     ]
    }
   ],
   "source": [
    "a = np.arange(1,22)\n",
    "\n",
    "# Your code here\n",
    "m1 = a.reshape(3,7)\n",
    "print(m1)\n",
    "m2 = a.reshape(7,3)\n",
    "print(m2)\n",
    "m3 = a.reshape(3, -1) # When a dimensions changes to -1, it calculates by itself how many of that dimension is needed\n",
    "print(m3)"
   ]
  },
  {
   "cell_type": "markdown",
   "metadata": {},
   "source": [
    "#### Exercise 3.3: Stack the following arrays:\n",
    "1. Vertically\n",
    "2. Horizontally"
   ]
  },
  {
   "cell_type": "code",
   "execution_count": 11,
   "metadata": {
    "scrolled": true
   },
   "outputs": [
    {
     "name": "stdout",
     "output_type": "stream",
     "text": [
      "vertical:\n",
      "[[1 2]\n",
      " [3 4]\n",
      " [5 6]]\n",
      "[[ 7  8]\n",
      " [ 9 10]\n",
      " [11 12]]\n",
      "horizontal:\n",
      "[1 2 3 4 5 6]\n",
      "[ 7  8  9 10 11 12]\n"
     ]
    }
   ],
   "source": [
    "a = np.array([[1,2],[3,4],[5,6]])\n",
    "b = np.array([[7,8],[9,10],[11,12]])\n",
    "\n",
    "# Your code here\n",
    "print(\"vertical:\")\n",
    "va = np.vstack(a)\n",
    "vb = np.vstack(b)\n",
    "print(va)\n",
    "print(vb)\n",
    "\n",
    "print(\"horizontal:\")\n",
    "ha = np.hstack(a)\n",
    "hb = np.hstack(b)\n",
    "print(ha)\n",
    "print(hb)"
   ]
  },
  {
   "cell_type": "markdown",
   "metadata": {},
   "source": [
    "### Exercise 4: Broadcasting and matrix operations\n",
    "By default, NumPy uses broadcasting in stead of the well known linear algebra concepts (such as matrix multiplication). Study the following article to understand broadcasting: https://jakevdp.github.io/PythonDataScienceHandbook/02.05-computation-on-arrays-broadcasting.html.\n",
    "\n",
    "Use the following datatypes for the exercises:"
   ]
  },
  {
   "cell_type": "code",
   "execution_count": 12,
   "metadata": {
    "scrolled": true
   },
   "outputs": [],
   "source": [
    "mat = np.arange(1,10, dtype=np.float64).reshape((3,-1))\n",
    "vec = np.arange(1,4)"
   ]
  },
  {
   "cell_type": "markdown",
   "metadata": {},
   "source": [
    "#### Exercise 4.1: Apply the following mathematical operations:\n",
    "1. Add the vector to the matrix\n",
    "2. Multiply the matrix with the scalar value 3\n",
    "3. Multiply the matrix with the vector"
   ]
  },
  {
   "cell_type": "code",
   "execution_count": 13,
   "metadata": {
    "scrolled": true
   },
   "outputs": [
    {
     "name": "stdout",
     "output_type": "stream",
     "text": [
      "mat: \n",
      " [[1. 2. 3.]\n",
      " [4. 5. 6.]\n",
      " [7. 8. 9.]] \n",
      "vec: \n",
      " [1 2 3] \n",
      "\n",
      "mat + vec = \n",
      " [[ 2.  4.  6.]\n",
      " [ 5.  7.  9.]\n",
      " [ 8. 10. 12.]] \n",
      "\n",
      "mat * 3 = \n",
      " [[ 3.  6.  9.]\n",
      " [12. 15. 18.]\n",
      " [21. 24. 27.]] \n",
      "\n",
      "mat * vec = \n",
      " [[ 1.  4.  9.]\n",
      " [ 4. 10. 18.]\n",
      " [ 7. 16. 27.]]\n"
     ]
    }
   ],
   "source": [
    "# Your code here\n",
    "print(\"mat: \\n\", mat, \"\\nvec: \\n\", vec, \"\\n\")\n",
    "\n",
    "print(\"mat + vec = \\n\", mat + vec, \"\\n\")\n",
    "print(\"mat * 3 = \\n\", mat * 3, \"\\n\")\n",
    "print(\"mat * vec = \\n\", mat * vec)"
   ]
  },
  {
   "cell_type": "markdown",
   "metadata": {},
   "source": [
    "#### Exercise 4.2: Perform the following matrix operations:\n",
    "1. Transpose the matrix\n",
    "2. Apply a matrix multiplication with the original matrix and the transposed matrix"
   ]
  },
  {
   "cell_type": "code",
   "execution_count": 14,
   "metadata": {
    "scrolled": true
   },
   "outputs": [
    {
     "name": "stdout",
     "output_type": "stream",
     "text": [
      "transposed matrix:\n",
      " [[1. 4. 7.]\n",
      " [2. 5. 8.]\n",
      " [3. 6. 9.]] \n",
      "\n",
      "transposed + mat:\n",
      " [[ 1.  8. 21.]\n",
      " [ 8. 25. 48.]\n",
      " [21. 48. 81.]]\n"
     ]
    }
   ],
   "source": [
    "# Your code here\n",
    "tramat = mat.transpose() # returns the matrix in the opposite way\n",
    "print(\"transposed matrix:\\n\", tramat, \"\\n\")\n",
    "\n",
    "print(\"transposed + mat:\\n\", tramat * mat)"
   ]
  },
  {
   "cell_type": "markdown",
   "metadata": {},
   "source": [
    "#### Exercise 4.3: Aggregate values in the matrix:\n",
    "1. Calculate the sum, mean and standard deviation of the whole matrix\n",
    "2. Calculate the sum, mean and standard deviation of each row\n",
    "3. Calculate the sum, mean and standard deviation of each column"
   ]
  },
  {
   "cell_type": "code",
   "execution_count": 20,
   "metadata": {
    "scrolled": true
   },
   "outputs": [
    {
     "name": "stdout",
     "output_type": "stream",
     "text": [
      "whole matrix:\n",
      "sum:\t\t 45.0 \n",
      "mean:\t\t 5.0 \n",
      "standard:\t 2.581988897471611\n",
      "[ 6. 15. 24.]\n",
      "[12. 15. 18.]\n",
      "\n",
      "each row\n",
      "[{'row': 0, 'sum': np.float64(6.0), 'mean': np.float64(2.0), 'standard': np.float64(0.816496580927726)}, {'row': 1, 'sum': np.float64(15.0), 'mean': np.float64(5.0), 'standard': np.float64(0.816496580927726)}, {'row': 2, 'sum': np.float64(24.0), 'mean': np.float64(8.0), 'standard': np.float64(0.816496580927726)}]\n",
      "\n",
      "each column\n",
      "col:\t\t 0\n",
      "sum:\t\t 12.0 \n",
      "mean:\t\t 4.0 \n",
      "standard:\t 2.449489742783178\n",
      "col:\t\t 1\n",
      "sum:\t\t 15.0 \n",
      "mean:\t\t 5.0 \n",
      "standard:\t 2.449489742783178\n",
      "col:\t\t 2\n",
      "sum:\t\t 18.0 \n",
      "mean:\t\t 6.0 \n",
      "standard:\t 2.449489742783178\n"
     ]
    }
   ],
   "source": [
    "# Your code here\n",
    "def aggregate(sum, mean, standard):\n",
    "    print(\"sum:\\t\\t\", sum, \"\\nmean:\\t\\t\", mean, \"\\nstandard:\\t\", standard)\n",
    "\n",
    "print(\"whole matrix:\")\n",
    "aggregate(mat.sum(), mat.mean(), mat.std())\n",
    "print(mat.sum(axis=1))\n",
    "print(mat.sum(axis=0))\n",
    "\n",
    "# print(\"\\neach row\")\n",
    "# rows = []\n",
    "# for row in range(mat.shape[0]):\n",
    "#     # print(\"row:\\t\\t\", row)\n",
    "#     # aggregate(mat[row].sum(), mat[row].mean(), mat[row].std())\n",
    "#     rows.append({\"row\":row, \"sum\":mat[row].sum(), \"mean\":mat[row].mean(), \"standard\":mat[row].std()})\n",
    "# print(rows)\n",
    "\n",
    "# print(\"\\neach column\")\n",
    "# for col in range(mat.shape[1]):\n",
    "#     print(\"col:\\t\\t\",col)\n",
    "#     aggregate(mat[:,col].sum(), mat[:,col].mean(), mat[:,col].std())"
   ]
  },
  {
   "cell_type": "markdown",
   "metadata": {},
   "source": [
    "## Explore Pandas\n",
    "The following cheatsheet could be useful: https://raw.githubusercontent.com/pandas-dev/pandas/master/doc/cheatsheet/Pandas_Cheat_Sheet.pdf.\n",
    "\n",
    "Read the following pandas guide and apply your knowledge in the exercise below: https://pandas.pydata.org/pandas-docs/stable/10min.html.\n",
    "\n",
    "### Exercise 5: weather data and pandas\n",
    "In this exercise, we will use the dataset `weather.csv` from BlackBoard. The file contains the following columns:\n",
    "- `dteday`: date\n",
    "- `season`:\n",
    "    - 1: Spring\n",
    "    - 2: Summer\n",
    "    - 3: Fall\n",
    "    - 4: Winter)\n",
    "- `weathersit`: \n",
    "    - 1: Clear, Few clouds, Partly cloudy, Partly cloudy\n",
    "    - 2: Mist + Cloudy, Mist + Broken clouds, Mist + Few clouds, Mist\n",
    "    - 3: Light Snow, Light Rain + Thunderstorm + Scattered clouds, Light Rain + Scattered clouds\n",
    "    - 4: Heavy Rain + Ice Pallets + Thunderstorm + Mist, Snow + Fog\n",
    "- `temp`: Normalized temperature in Celsius; the values are divided by 41 (max)\n",
    "- `atemp`: Normalized feeling temperature in Celsius; the values are divided by 50 (max)\n",
    "- `hum`: Normalized humidity; the values are divided by 100 (max)\n",
    "- `windspeed`: Normalized wind speed; the values are divided by 67 (max)\n",
    "\n",
    "We want to use pandas to analyze this dataset. Please write code for the questions 5.1 to 5.4:"
   ]
  },
  {
   "cell_type": "markdown",
   "metadata": {},
   "source": [
    "#### 5.1 Data processing\n",
    "Remove all the columns except for date, temp and atmp and store in a new csv file. For temp and atemp you need to (re)store the actual values (not the normalized values)."
   ]
  },
  {
   "cell_type": "code",
   "execution_count": 16,
   "metadata": {},
   "outputs": [
    {
     "name": "stdout",
     "output_type": "stream",
     "text": [
      "        dteday       temp     atemp\n",
      "0   2011-01-01  14.110847  18.18125\n",
      "1   2011-01-02  14.902598  17.68695\n",
      "2   2011-01-03   8.050924   9.47025\n",
      "3   2011-01-04   8.200000  10.60610\n",
      "4   2011-01-05   9.305237  11.46350\n",
      "..         ...        ...       ...\n",
      "726 2012-12-27  10.420847  11.33210\n",
      "727 2012-12-28  10.386653  12.75230\n",
      "728 2012-12-29  10.386653  12.12000\n",
      "729 2012-12-30  10.489153  11.58500\n",
      "730 2012-12-31   8.849153  11.17435\n",
      "\n",
      "[731 rows x 3 columns]\n"
     ]
    },
    {
     "name": "stderr",
     "output_type": "stream",
     "text": [
      "C:\\Users\\jordy\\AppData\\Local\\Temp\\ipykernel_6588\\3879496541.py:6: SettingWithCopyWarning: \n",
      "A value is trying to be set on a copy of a slice from a DataFrame.\n",
      "Try using .loc[row_indexer,col_indexer] = value instead\n",
      "\n",
      "See the caveats in the documentation: https://pandas.pydata.org/pandas-docs/stable/user_guide/indexing.html#returning-a-view-versus-a-copy\n",
      "  df[\"dteday\"] = pd.to_datetime(df[\"dteday\"], format=\"%d/%m/%y\")\n",
      "C:\\Users\\jordy\\AppData\\Local\\Temp\\ipykernel_6588\\3879496541.py:7: SettingWithCopyWarning: \n",
      "A value is trying to be set on a copy of a slice from a DataFrame.\n",
      "Try using .loc[row_indexer,col_indexer] = value instead\n",
      "\n",
      "See the caveats in the documentation: https://pandas.pydata.org/pandas-docs/stable/user_guide/indexing.html#returning-a-view-versus-a-copy\n",
      "  df[\"temp\"] = df[\"temp\"] * 41\n",
      "C:\\Users\\jordy\\AppData\\Local\\Temp\\ipykernel_6588\\3879496541.py:8: SettingWithCopyWarning: \n",
      "A value is trying to be set on a copy of a slice from a DataFrame.\n",
      "Try using .loc[row_indexer,col_indexer] = value instead\n",
      "\n",
      "See the caveats in the documentation: https://pandas.pydata.org/pandas-docs/stable/user_guide/indexing.html#returning-a-view-versus-a-copy\n",
      "  df[\"atemp\"] = df[\"atemp\"] * 50\n"
     ]
    }
   ],
   "source": [
    "# Your code here\n",
    "tempdf = pd.read_csv(\"weather.csv\", delimiter=\";\")\n",
    "# print(tempdf.describe())\n",
    "\n",
    "df = tempdf[[\"dteday\", \"temp\", \"atemp\"]]\n",
    "df[\"dteday\"] = pd.to_datetime(df[\"dteday\"], format=\"%d/%m/%y\")\n",
    "df[\"temp\"] = df[\"temp\"] * 41\n",
    "df[\"atemp\"] = df[\"atemp\"] * 50\n",
    "print(df)\n",
    "df.to_csv(\"newWeather.csv\", sep=\";\", index=False, encoding=\"utf-8\")"
   ]
  },
  {
   "cell_type": "markdown",
   "metadata": {},
   "source": [
    "#### 5.2 Statistics\n",
    "Show the statistics mean, sum and std (standard devation) for the columns temp and atemp "
   ]
  },
  {
   "cell_type": "code",
   "execution_count": 17,
   "metadata": {},
   "outputs": [
    {
     "data": {
      "text/html": [
       "<div>\n",
       "<style scoped>\n",
       "    .dataframe tbody tr th:only-of-type {\n",
       "        vertical-align: middle;\n",
       "    }\n",
       "\n",
       "    .dataframe tbody tr th {\n",
       "        vertical-align: top;\n",
       "    }\n",
       "\n",
       "    .dataframe thead th {\n",
       "        text-align: right;\n",
       "    }\n",
       "</style>\n",
       "<table border=\"1\" class=\"dataframe\">\n",
       "  <thead>\n",
       "    <tr style=\"text-align: right;\">\n",
       "      <th></th>\n",
       "      <th>temp</th>\n",
       "      <th>atemp</th>\n",
       "    </tr>\n",
       "  </thead>\n",
       "  <tbody>\n",
       "    <tr>\n",
       "      <th>sum</th>\n",
       "      <td>14847.177496</td>\n",
       "      <td>17337.638285</td>\n",
       "    </tr>\n",
       "    <tr>\n",
       "      <th>mean</th>\n",
       "      <td>20.310776</td>\n",
       "      <td>23.717699</td>\n",
       "    </tr>\n",
       "    <tr>\n",
       "      <th>std</th>\n",
       "      <td>7.505091</td>\n",
       "      <td>8.148059</td>\n",
       "    </tr>\n",
       "  </tbody>\n",
       "</table>\n",
       "</div>"
      ],
      "text/plain": [
       "              temp         atemp\n",
       "sum   14847.177496  17337.638285\n",
       "mean     20.310776     23.717699\n",
       "std       7.505091      8.148059"
      ]
     },
     "execution_count": 17,
     "metadata": {},
     "output_type": "execute_result"
    }
   ],
   "source": [
    "# Your code here\n",
    "df[[\"temp\", \"atemp\"]].aggregate([\"sum\", \"mean\", \"std\"])"
   ]
  },
  {
   "cell_type": "markdown",
   "metadata": {},
   "source": [
    "#### 5.3 Temperature graph\n",
    "Show the (real) temperature and the feeling temperature in one graph (hint: use df.plot )"
   ]
  },
  {
   "cell_type": "code",
   "execution_count": 18,
   "metadata": {},
   "outputs": [
    {
     "data": {
      "text/plain": [
       "<Axes: title={'center': 'temperature graph'}>"
      ]
     },
     "execution_count": 18,
     "metadata": {},
     "output_type": "execute_result"
    },
    {
     "data": {
      "image/png": "[encoded data removed]",
      "text/plain": [
       "<Figure size 640x480 with 1 Axes>"
      ]
     },
     "metadata": {},
     "output_type": "display_data"
    }
   ],
   "source": [
    "# Your code here\n",
    "df.plot(title=\"temperature graph\")"
   ]
  },
  {
   "cell_type": "markdown",
   "metadata": {},
   "source": [
    "#### 5.4 Group by month --> barchart\n",
    "Group the dataframe by month and show the `mean` temperature and `mean` feeling temperature per month in a bar chart"
   ]
  },
  {
   "cell_type": "code",
   "execution_count": 19,
   "metadata": {},
   "outputs": [
    {
     "data": {
      "text/plain": [
       "<Axes: title={'center': 'mean temps by month'}, xlabel='dteday'>"
      ]
     },
     "execution_count": 19,
     "metadata": {},
     "output_type": "execute_result"
    },
    {
     "data": {
      "image/png": "[encoded data removed]",
      "text/plain": [
       "<Figure size 640x480 with 1 Axes>"
      ]
     },
     "metadata": {},
     "output_type": "display_data"
    }
   ],
   "source": [
    "# Your code here\n",
    "# print(df.dtypes)\n",
    "# print(df.groupby(df.date.dt.month)[\"temp\", \"atemp\"].mean())\n",
    "# print(df[\"dteday\"].dt.month)\n",
    "# print(df.groupby(df[\"dteday\"].dt.month)[[\"temp\", \"atemp\"]].mean())\n",
    "\n",
    "df.groupby(df[\"dteday\"].dt.month)[[\"temp\", \"atemp\"]].mean().plot(title=\"mean temps by month\", kind=\"bar\")"
   ]
  }
 ],
 "metadata": {
  "kernelspec": {
   "display_name": "Python 3 (ipykernel)",
   "language": "python",
   "name": "python3"
  },
  "language_info": {
   "codemirror_mode": {
    "name": "ipython",
    "version": 3
   },
   "file_extension": ".py",
   "mimetype": "text/x-python",
   "name": "python",
   "nbconvert_exporter": "python",
   "pygments_lexer": "ipython3",
   "version": "3.11.9"
  },
  "varInspector": {
   "cols": {
    "lenName": 16,
    "lenType": 16,
    "lenVar": 40
   },
   "kernels_config": {
    "python": {
     "delete_cmd_postfix": "",
     "delete_cmd_prefix": "del ",
     "library": "var_list.py",
     "varRefreshCmd": "print(var_dic_list())"
    },
    "r": {
     "delete_cmd_postfix": ") ",
     "delete_cmd_prefix": "rm(",
     "library": "var_list.r",
     "varRefreshCmd": "cat(var_dic_list()) "
    }
   },
   "types_to_exclude": [
    "module",
    "function",
    "builtin_function_or_method",
    "instance",
    "_Feature"
   ],
   "window_display": false
  }
 },
 "nbformat": 4,
 "nbformat_minor": 4
}
